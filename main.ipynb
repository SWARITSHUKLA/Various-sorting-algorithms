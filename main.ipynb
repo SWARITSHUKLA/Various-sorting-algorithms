{
 "cells": [
  {
   "cell_type": "code",
   "execution_count": 17,
   "metadata": {},
   "outputs": [],
   "source": [
    "#checking if an array is sorted or not\n",
    "def is_sorted(arr):\n",
    "    for i in range(len(arr)-1):\n",
    "        if arr[i] >arr[i+1]:\n",
    "            return False\n",
    "    return True\n"
   ]
  },
  {
   "cell_type": "code",
   "execution_count": 18,
   "metadata": {},
   "outputs": [
    {
     "data": {
      "text/plain": [
       "True"
      ]
     },
     "execution_count": 18,
     "metadata": {},
     "output_type": "execute_result"
    }
   ],
   "source": [
    "arr = [1,2,3,4,5,6,7,8,9]\n",
    "is_sorted(arr)"
   ]
  },
  {
   "cell_type": "code",
   "execution_count": null,
   "metadata": {},
   "outputs": [
    {
     "name": "stdout",
     "output_type": "stream",
     "text": [
      "[1, 3, 5, 243]\n"
     ]
    }
   ],
   "source": [
    "import random\n",
    "import time\n",
    "arr1 = [1,243,5,3] \n",
    "#Creating moknkey sort function\n",
    "def Monkey_sort(arr):\n",
    "    while not is_sorted(arr):\n",
    "        random.shuffle(arr)\n",
    "        time.sleep(1)#this is just for fun \n",
    "        print(arr)#this line too\n",
    "    return arr\n",
    "a = Monkey_sort(arr1)\n",
    "\n",
    "print(a)\n",
    "#its highly uneffective though, it just for fun purpose\n",
    "#the time complexity of monkey sort is infinity because its random and\n",
    "#the worst possibility is that the outcome we want never occurs\n",
    "\n",
    "        "
   ]
  },
  {
   "cell_type": "code",
   "execution_count": 29,
   "metadata": {},
   "outputs": [],
   "source": [
    "#sleep_sort\n",
    "def sleep_sort(arr):\n",
    "    pass\n",
    "#its also a \"just for fun\" sorting algorithm no real life use case"
   ]
  },
  {
   "cell_type": "code",
   "execution_count": null,
   "metadata": {},
   "outputs": [],
   "source": [
    "#bubble sort algorithm\n",
    "def Bubble_sort(arr):\n",
    "    for i in range(len(arr)-1):# this loop will depict the passes\n",
    "        for j in range(len(arr)-1-i):\n",
    "            if arr[j]>arr[j+1]:\n",
    "                arr[j],arr[j+1] = arr[j+1],arr[j]\n",
    "    print(arr)\n",
    "            \n",
    "def Bubble_sort_adaptive(arr):\n",
    "    for i in range(len(arr)-1):# this loop will depict the passes\n",
    "        flag = True#bubble sort by nature if not adaptive but we can make it adaptive\n",
    "        for j in range(len(arr)-1-i):\n",
    "            if arr[j]>arr[j+1]:\n",
    "                arr[j],arr[j+1] = arr[j+1],arr[j]\n",
    "                flag = False\n",
    "        if flag ==True:\n",
    "            break\n",
    "    print(arr)\n",
    "\n"
   ]
  },
  {
   "cell_type": "code",
   "execution_count": 42,
   "metadata": {},
   "outputs": [
    {
     "name": "stdout",
     "output_type": "stream",
     "text": [
      "[2, 3, 4, 5, 6]\n"
     ]
    }
   ],
   "source": [
    "arr = [2,3,4,5,6]\n",
    "Bubble_sort_adaptive(arr)"
   ]
  },
  {
   "cell_type": "code",
   "execution_count": 43,
   "metadata": {},
   "outputs": [],
   "source": [
    "#selection sort\n",
    "def Selection_Sort(arr):\n",
    "    \n",
    "    for i in range(len(arr)-1):\n",
    "        min = i\n",
    "        for j in range(i+1,len(arr)):\n",
    "            if arr[min] > arr[j]:\n",
    "                min = j\n",
    "        arr[min],arr[i] = arr[i],arr[min]\n",
    "    print(arr)\n",
    "    \n"
   ]
  },
  {
   "cell_type": "code",
   "execution_count": 44,
   "metadata": {},
   "outputs": [
    {
     "name": "stdout",
     "output_type": "stream",
     "text": [
      "[1, 2, 4, 5, 45, 67, 87, 234]\n"
     ]
    }
   ],
   "source": [
    "arr = [1,234,4,2,67,87,5,45]\n",
    "Selection_Sort(arr)"
   ]
  },
  {
   "cell_type": "code",
   "execution_count": null,
   "metadata": {},
   "outputs": [],
   "source": []
  }
 ],
 "metadata": {
  "kernelspec": {
   "display_name": "Python 3",
   "language": "python",
   "name": "python3"
  },
  "language_info": {
   "codemirror_mode": {
    "name": "ipython",
    "version": 3
   },
   "file_extension": ".py",
   "mimetype": "text/x-python",
   "name": "python",
   "nbconvert_exporter": "python",
   "pygments_lexer": "ipython3",
   "version": "3.13.0"
  }
 },
 "nbformat": 4,
 "nbformat_minor": 2
}
